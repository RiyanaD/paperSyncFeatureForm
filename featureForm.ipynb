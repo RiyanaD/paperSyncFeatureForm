{
  "nbformat": 4,
  "nbformat_minor": 0,
  "metadata": {
    "colab": {
      "provenance": [],
      "authorship_tag": "ABX9TyMSJKGglGqa0KwILYa0gYBt",
      "include_colab_link": true
    },
    "kernelspec": {
      "name": "python3",
      "display_name": "Python 3"
    },
    "language_info": {
      "name": "python"
    }
  },
  "cells": [
    {
      "cell_type": "markdown",
      "metadata": {
        "id": "view-in-github",
        "colab_type": "text"
      },
      "source": [
        "<a href=\"https://colab.research.google.com/github/RiyanaD/paperSyncFeatureForm/blob/main/featureForm.ipynb\" target=\"_parent\"><img src=\"https://colab.research.google.com/assets/colab-badge.svg\" alt=\"Open In Colab\"/></a>"
      ]
    },
    {
      "cell_type": "code",
      "source": [
        "PINECONE_PROJECT_ID=f912317\n",
        "PINECONE_ENVIRONMENT=asia-southeast1-gcp-free\n",
        "PINECONE_API_KEY=ea02a955-5394-4037-b727-033d4acade67\n"
      ],
      "metadata": {
        "id": "0OZMlo78ENNc"
      },
      "execution_count": null,
      "outputs": []
    },
    {
      "cell_type": "code",
      "source": [
        "pip install featureform"
      ],
      "metadata": {
        "id": "Ik35E4vtCTvr"
      },
      "execution_count": null,
      "outputs": []
    },
    {
      "cell_type": "code",
      "source": [
        "pip install sentence-transformers"
      ],
      "metadata": {
        "id": "WjMl_lpMDefj"
      },
      "execution_count": null,
      "outputs": []
    },
    {
      "cell_type": "code",
      "source": [
        "import featureform as ff\n",
        "from featureform import local\n",
        "\n",
        "client = ff.Client(local=True)\n"
      ],
      "metadata": {
        "colab": {
          "base_uri": "https://localhost:8080/"
        },
        "id": "uZL-8FXLD8EE",
        "outputId": "aba45192-8ee1-471e-c819-e337521afb39"
      },
      "execution_count": 3,
      "outputs": [
        {
          "output_type": "stream",
          "name": "stderr",
          "text": [
            "ImportWarning: APICoreClientInfoImportHook.find_spec() not found; falling back to find_module()\n",
            "ImportWarning: _PyDriveImportHook.find_spec() not found; falling back to find_module()\n",
            "ImportWarning: _OpenCVImportHook.find_spec() not found; falling back to find_module()\n",
            "ImportWarning: _BokehImportHook.find_spec() not found; falling back to find_module()\n",
            "ImportWarning: _AltairImportHook.find_spec() not found; falling back to find_module()\n",
            "ImportWarning: APICoreClientInfoImportHook.find_spec() not found; falling back to find_module()\n",
            "ImportWarning: _PyDriveImportHook.find_spec() not found; falling back to find_module()\n",
            "ImportWarning: _OpenCVImportHook.find_spec() not found; falling back to find_module()\n",
            "ImportWarning: _BokehImportHook.find_spec() not found; falling back to find_module()\n",
            "ImportWarning: _AltairImportHook.find_spec() not found; falling back to find_module()\n",
            "ImportWarning: APICoreClientInfoImportHook.find_spec() not found; falling back to find_module()\n",
            "ImportWarning: _PyDriveImportHook.find_spec() not found; falling back to find_module()\n",
            "ImportWarning: _OpenCVImportHook.find_spec() not found; falling back to find_module()\n",
            "ImportWarning: _BokehImportHook.find_spec() not found; falling back to find_module()\n",
            "ImportWarning: _AltairImportHook.find_spec() not found; falling back to find_module()\n",
            "ImportWarning: APICoreClientInfoImportHook.find_spec() not found; falling back to find_module()\n",
            "ImportWarning: _PyDriveImportHook.find_spec() not found; falling back to find_module()\n",
            "ImportWarning: _OpenCVImportHook.find_spec() not found; falling back to find_module()\n",
            "ImportWarning: _BokehImportHook.find_spec() not found; falling back to find_module()\n",
            "ImportWarning: _AltairImportHook.find_spec() not found; falling back to find_module()\n",
            "ImportWarning: APICoreClientInfoImportHook.find_spec() not found; falling back to find_module()\n",
            "ImportWarning: _PyDriveImportHook.find_spec() not found; falling back to find_module()\n",
            "ImportWarning: _OpenCVImportHook.find_spec() not found; falling back to find_module()\n",
            "ImportWarning: _BokehImportHook.find_spec() not found; falling back to find_module()\n",
            "ImportWarning: _AltairImportHook.find_spec() not found; falling back to find_module()\n",
            "TqdmExperimentalWarning: Using `tqdm.autonotebook.tqdm` in notebook mode. Use `tqdm.tqdm` instead to force console mode (e.g. in jupyter console)\n",
            "ImportWarning: APICoreClientInfoImportHook.find_spec() not found; falling back to find_module()\n",
            "ImportWarning: _PyDriveImportHook.find_spec() not found; falling back to find_module()\n",
            "ImportWarning: _OpenCVImportHook.find_spec() not found; falling back to find_module()\n",
            "ImportWarning: _BokehImportHook.find_spec() not found; falling back to find_module()\n",
            "ImportWarning: _AltairImportHook.find_spec() not found; falling back to find_module()\n"
          ]
        }
      ]
    }
  ]
}